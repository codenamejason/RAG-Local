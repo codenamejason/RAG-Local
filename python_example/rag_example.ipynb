{
  "cells": [
    {
      "cell_type": "markdown",
      "metadata": {},
      "source": [
        "# Pure Local RAG System - Zero Cost AI\n",
        "\n",
        "**100% Local | No API Keys | Complete Privacy**\n",
        "\n",
        "This notebook shows you how to build a RAG system that:\n",
        "- Runs entirely on your machine\n",
        "- Costs $0.00 forever\n",
        "- Keeps your data private\n",
        "- Works offline\n"
      ]
    },
    {
      "cell_type": "code",
      "execution_count": null,
      "metadata": {},
      "outputs": [],
      "source": [
        "# 1. Setup - Check if Ollama is running\n",
        "import requests\n",
        "\n",
        "def check_ollama():\n",
        "    try:\n",
        "        r = requests.get(\"http://localhost:11434/api/tags\", timeout=2)\n",
        "        if r.status_code == 200:\n",
        "            models = r.json().get(\"models\", [])\n",
        "            print(f\"[OK] Ollama is running with {len(models)} models\")\n",
        "            for m in models:\n",
        "                print(f\"  - {m['name']}\")\n",
        "            return True\n",
        "    except:\n",
        "        print(\"[FAIL] Ollama not running!\")\n",
        "        print(\"\\nTo fix: Run 'ollama serve' in a terminal\")\n",
        "        print(\"Then: ollama pull tinyllama\")\n",
        "        return False\n",
        "\n",
        "check_ollama()\n"
      ]
    },
    {
      "cell_type": "code",
      "execution_count": null,
      "metadata": {},
      "outputs": [],
      "source": [
        "# 2. Import Local RAG Components\n",
        "import sys\n",
        "from pathlib import Path\n",
        "sys.path.append(str(Path.cwd()))\n",
        "\n",
        "from src.rag_pipeline_local import LocalRAGPipeline\n",
        "\n",
        "print(\"[OK] Imports ready\")\n",
        "print(f\"[OK] Cost so far: $0.00\")\n"
      ]
    },
    {
      "cell_type": "code",
      "execution_count": null,
      "metadata": {},
      "outputs": [],
      "source": [
        "# 3. Initialize Local RAG Pipeline\n",
        "rag = LocalRAGPipeline(\n",
        "    llm_model=\"tinyllama:latest\",  # Fast, 637MB\n",
        "    embedding_model=\"nomic-embed-text:latest\",  # 274MB\n",
        "    collection_name=\"demo\"\n",
        ")\n",
        "\n",
        "print(\"[OK] RAG pipeline ready\")\n",
        "print(f\"Stats: {rag.get_stats()}\")\n"
      ]
    },
    {
      "cell_type": "code",
      "execution_count": null,
      "metadata": {},
      "outputs": [],
      "source": [
        "# 4. Add Documents (all processed locally)\n",
        "docs = [\n",
        "    \"Python is a high-level programming language known for simplicity.\",\n",
        "    \"Machine learning uses algorithms to learn patterns from data.\",\n",
        "    \"RAG combines retrieval and generation for better AI responses.\"\n",
        "]\n",
        "\n",
        "num_chunks = rag.add_documents(docs)\n",
        "print(f\"[OK] Added {num_chunks} chunks\")\n",
        "print(f\"[OK] Cost: $0.00\")\n"
      ]
    },
    {
      "cell_type": "code",
      "execution_count": null,
      "metadata": {},
      "outputs": [],
      "source": [
        "# 5. Query Your Local Knowledge Base\n",
        "response = rag.query(\"What is Python?\")\n",
        "\n",
        "print(f\"Question: What is Python?\")\n",
        "print(f\"Answer: {response.answer}\")\n",
        "print(f\"Sources: {len(response.sources)} chunks used\")\n",
        "print(f\"Cost: ${response.total_cost:.2f} (always $0.00!)\")\n"
      ]
    },
    {
      "cell_type": "markdown",
      "metadata": {},
      "source": [
        "## That's It!\n",
        "\n",
        "You now have a working RAG system that:\n",
        "- ✅ Runs 100% locally\n",
        "- ✅ Costs $0.00 forever\n",
        "- ✅ Keeps data private\n",
        "- ✅ Works offline\n",
        "\n",
        "**Next Steps:**\n",
        "1. Add more documents: `rag.add_documents(['file.txt'])`\n",
        "2. Try better models: `ollama pull mistral`\n",
        "3. Build apps on top of this\n",
        "\n",
        "**Remember:** Every query saves you money vs cloud services!\n"
      ]
    }
  ],
  "metadata": {
    "language_info": {
      "name": "python"
    }
  },
  "nbformat": 4,
  "nbformat_minor": 2
}
